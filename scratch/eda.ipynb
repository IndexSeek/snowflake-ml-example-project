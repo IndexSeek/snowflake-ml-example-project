{
 "cells": [
  {
   "cell_type": "code",
   "execution_count": 1,
   "metadata": {},
   "outputs": [],
   "source": [
    "from snowflake.snowpark import Session"
   ]
  },
  {
   "cell_type": "code",
   "execution_count": 2,
   "metadata": {},
   "outputs": [],
   "source": [
    "session = Session.builder.create()"
   ]
  },
  {
   "cell_type": "code",
   "execution_count": 3,
   "metadata": {},
   "outputs": [],
   "source": [
    "df = session.table(\"DATA.DIAMONDS\")"
   ]
  },
  {
   "cell_type": "code",
   "execution_count": 4,
   "metadata": {},
   "outputs": [
    {
     "name": "stdout",
     "output_type": "stream",
     "text": [
      "---------------------------------------------------------------------------------------------------------------------------------------------------------------------------------------------------\n",
      "|\"SUMMARY\"  |\"CARAT\"              |\"CUT\"      |\"COLOR\"  |\"CLARITY\"  |\"DEPTH\"             |\"TABLE_WIDTH\"       |\"PRICE\"             |\"X\"                 |\"Y\"                 |\"Z\"                 |\n",
      "---------------------------------------------------------------------------------------------------------------------------------------------------------------------------------------------------\n",
      "|count      |53940.0              |53940      |53940    |53940      |53940.0             |53940.0             |53940.0             |53940.0             |53940.0             |53940.0             |\n",
      "|mean       |0.7979397478680015   |NULL       |NULL     |NULL       |61.74940489432703   |57.45718390804598   |3932.799722         |5.731157211716722   |5.734525954764553   |3.538733778272154   |\n",
      "|stddev     |0.47401124440541836  |NULL       |NULL     |NULL       |1.4326213188335484  |2.2344905628213527  |3989.4397381463227  |1.1217607467924935  |1.1421346741235547  |0.7056988469499935  |\n",
      "|min        |0.2                  |Fair       |D        |I1         |43.0                |43.0                |326.0               |0.0                 |0.0                 |0.0                 |\n",
      "|max        |5.01                 |Very Good  |J        |VVS2       |79.0                |95.0                |18823.0             |10.74               |58.9                |31.8                |\n",
      "---------------------------------------------------------------------------------------------------------------------------------------------------------------------------------------------------\n",
      "\n"
     ]
    }
   ],
   "source": [
    "df.describe().show()"
   ]
  },
  {
   "cell_type": "code",
   "execution_count": 5,
   "metadata": {},
   "outputs": [
    {
     "name": "stdout",
     "output_type": "stream",
     "text": [
      "-------------\n",
      "|\"CUT\"      |\n",
      "-------------\n",
      "|Ideal      |\n",
      "|Premium    |\n",
      "|Good       |\n",
      "|Very Good  |\n",
      "|Fair       |\n",
      "-------------\n",
      "\n"
     ]
    }
   ],
   "source": [
    "df.select(\"CUT\").distinct().show()"
   ]
  },
  {
   "cell_type": "code",
   "execution_count": 6,
   "metadata": {},
   "outputs": [
    {
     "name": "stdout",
     "output_type": "stream",
     "text": [
      "-----------\n",
      "|\"COLOR\"  |\n",
      "-----------\n",
      "|E        |\n",
      "|I        |\n",
      "|J        |\n",
      "|H        |\n",
      "|F        |\n",
      "|G        |\n",
      "|D        |\n",
      "-----------\n",
      "\n"
     ]
    }
   ],
   "source": [
    "df.select(\"COLOR\").distinct().show()"
   ]
  },
  {
   "cell_type": "code",
   "execution_count": 7,
   "metadata": {},
   "outputs": [
    {
     "name": "stdout",
     "output_type": "stream",
     "text": [
      "-------------\n",
      "|\"CLARITY\"  |\n",
      "-------------\n",
      "|SI2        |\n",
      "|SI1        |\n",
      "|VS1        |\n",
      "|VS2        |\n",
      "|VVS2       |\n",
      "|I1         |\n",
      "|IF         |\n",
      "|VVS1       |\n",
      "-------------\n",
      "\n"
     ]
    }
   ],
   "source": [
    "df.select(\"CLARITY\").distinct().show()"
   ]
  }
 ],
 "metadata": {
  "kernelspec": {
   "display_name": ".venv",
   "language": "python",
   "name": "python3"
  },
  "language_info": {
   "codemirror_mode": {
    "name": "ipython",
    "version": 3
   },
   "file_extension": ".py",
   "mimetype": "text/x-python",
   "name": "python",
   "nbconvert_exporter": "python",
   "pygments_lexer": "ipython3",
   "version": "3.10.14"
  }
 },
 "nbformat": 4,
 "nbformat_minor": 2
}
